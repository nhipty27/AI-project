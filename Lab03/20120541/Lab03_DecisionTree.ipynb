{
  "cells": [
    {
      "cell_type": "markdown",
      "metadata": {
        "id": "b76YngfGGfyD"
      },
      "source": [
        "# Lab03: Cây quyết định"
      ]
    },
    {
      "cell_type": "markdown",
      "metadata": {
        "id": "-xZqh-Z7GfyF"
      },
      "source": [
        "**Cách làm bài**\n",
        "\n",
        "\n",
        "- Làm trực tiếp vào notebook.\n",
        "- Làm những phần có chữ `TODO`.\n",
        "\n",
        "\n",
        "**Nội dung:**\n",
        "\n",
        "- Cây quyết định.\n",
        "- Naive Bayes"
      ]
    },
    {
      "cell_type": "markdown",
      "metadata": {
        "id": "--NRbml7GfyG"
      },
      "source": [
        "### Import thư viện"
      ]
    },
    {
      "cell_type": "code",
      "execution_count": 103,
      "metadata": {
        "id": "VhR1GCY5GfyH"
      },
      "outputs": [],
      "source": [
        "import matplotlib.pyplot as plt\n",
        "from sklearn import datasets\n",
        "import pandas as pd\n",
        "import numpy as np\n",
        "from sklearn.metrics import accuracy_score"
      ]
    },
    {
      "cell_type": "markdown",
      "metadata": {
        "id": "L-OzYr2SGfyN"
      },
      "source": [
        "### Tải bộ dữ liệu Iris"
      ]
    },
    {
      "cell_type": "code",
      "execution_count": 104,
      "metadata": {
        "id": "oX5c3r4uGfyO"
      },
      "outputs": [],
      "source": [
        "from sklearn.model_selection import train_test_split\n",
        "iris=datasets.load_iris()\n",
        "\n",
        "X=iris.data\n",
        "y=iris.target\n",
        "\n",
        "#split dataset into training data and testing data\n",
        "X_train,X_test,y_train,y_test=train_test_split(X,y,test_size=0.33, random_state=42)"
      ]
    },
    {
      "cell_type": "markdown",
      "metadata": {
        "id": "US1KgZBgGfyU"
      },
      "source": [
        "## 1. Cây quyết định: Iterative Dichotomiser 3 (ID3)"
      ]
    },
    {
      "cell_type": "markdown",
      "metadata": {
        "id": "4sQh1ieuGfyV"
      },
      "source": [
        "### 1.1 Độ lợi thông tin"
      ]
    },
    {
      "cell_type": "markdown",
      "metadata": {
        "id": "MSjCJR_eGfyV"
      },
      "source": [
        "Giá trị kỳ vọng của self-information (entropy):"
      ]
    },
    {
      "cell_type": "markdown",
      "metadata": {
        "id": "BZM7fmb0GfyW"
      },
      "source": [
        "$$Entropy=-\\sum_{i}^{n}p_ilog_{2}(p_i)$$"
      ]
    },
    {
      "cell_type": "markdown",
      "metadata": {
        "id": "WDjtCHd_GfyX"
      },
      "source": [
        "Hàm entropy đạt giá trị nhỏ nhất nếu có giá trị $p_i$ bằng 1, đạt giá trị lớn nhất nếu tất cả $p_i$ đều bằng nhau. Những tính chất này của hàm entropy làm cho nó là một biểu hiện của sự mất trật tự, hay tính ngẫu nhiên của một hệ thống, ..."
      ]
    },
    {
      "cell_type": "code",
      "execution_count": 105,
      "metadata": {
        "id": "kql-MFq-GfyX"
      },
      "outputs": [],
      "source": [
        "def entropy(counts, n_samples):\n",
        "    \"\"\"\n",
        "    Parameters:\n",
        "    -----------\n",
        "    counts: shape (n_classes): list number of samples in each class\n",
        "    n_samples: number of data samples\n",
        "    \n",
        "    -----------\n",
        "    return entropy \n",
        "    \"\"\"\n",
        "    #TODO\n",
        "    result = 0\n",
        "    for count in counts:\n",
        "        if count!= 0:\n",
        "            result-=(count/n_samples)* np.log(count/n_samples)\n",
        "    return result\n"
      ]
    },
    {
      "cell_type": "code",
      "execution_count": 106,
      "metadata": {
        "id": "AsGJfLhmGfyc"
      },
      "outputs": [],
      "source": [
        "def entropy_of_one_division(division): \n",
        "    \"\"\"\n",
        "    Returns entropy of a divided group of data\n",
        "    Data may have multiple classes\n",
        "    \"\"\"\n",
        "    n_samples = len(division)\n",
        "    n_classes = set(division)\n",
        "    \n",
        "    counts=[]\n",
        "    #count samples in each class then store it to list counts\n",
        "    #TODO:\n",
        "    for sample in n_classes:\n",
        "        counts.append(np.sum(sample == division))\n",
        "    \n",
        "    return entropy(counts,n_samples),n_samples\n",
        "\n",
        "\n",
        "def get_entropy(y_predict, y):\n",
        "    \"\"\"\n",
        "    Returns entropy of a split\n",
        "    y_predict is the split decision by cutoff, True/Fasle\n",
        "    \"\"\"\n",
        "    n = len(y)\n",
        "    entropy_true, n_true = entropy_of_one_division(y[y_predict]) # left hand side entropy\n",
        "    entropy_false, n_false = entropy_of_one_division(y[~y_predict]) # right hand side entropy\n",
        "    # overall entropy\n",
        "    #TODO s=?\n",
        "    s = (n_true/n) * entropy_true + (n_false/n) * entropy_false\n",
        "    \n",
        "    return s"
      ]
    },
    {
      "cell_type": "markdown",
      "metadata": {
        "id": "dWhnKZm9Gfyi"
      },
      "source": [
        "Độ lợi thông tin của việc phân loại tập thông tin D theo thuộc tính A:\n",
        "$$ Gain(A)=Entrophy(D)-Entrophy_{A}(D)$$\n",
        "\n",
        "Tại mỗi nút trong ID3, một thuộc tính được chọn nếu mức tăng thông tin của nó cao nhất so với các nút khác.\n",
        "\n",
        "Tất cả các thuộc tính của bộ dữ liệu Iris được biểu diễn bằng các giá trị liên tục. Do đó chúng ta cần biểu diễn chúng bằng các giá trị rời rạc. Một cách đơn giản là sử dụng ngưỡng `cutoff` để tách các giá trị của dữ liệu trên mỗi thuộc tính thành hai phần: ` <cutoff` và `> = cutoff`.\n",
        "\n",
        "Để tìm `cutoff` tốt nhất cho một thuộc tính, chúng ta thay thế `cutoff` bằng các giá trị của nó rồi tính toán entropy, `cutoff` tốt nhất đạt được khi giá trị của entropy nhỏ nhất $ \\left (\\arg \\min Entrophy_ {A} (D) \\right) $."
      ]
    },
    {
      "cell_type": "markdown",
      "metadata": {
        "id": "tTKwaSw-Gfyj"
      },
      "source": [
        "### 1.2 Cây quyết định"
      ]
    },
    {
      "cell_type": "code",
      "execution_count": 107,
      "metadata": {
        "id": "xp6omaz2Gfyj"
      },
      "outputs": [],
      "source": [
        "class DecisionTreeClassifier:\n",
        "    def __init__(self, tree=None, depth=0):\n",
        "        '''Parameters:\n",
        "        -----------------\n",
        "        tree: decision tree\n",
        "        depth: depth of decision tree after training'''\n",
        "        \n",
        "        self.depth = depth\n",
        "        self.tree=tree\n",
        "    def fit(self, X, y, node={}, depth=0):\n",
        "        '''Parameter:\n",
        "        -----------------\n",
        "        X: training data\n",
        "        y: label of training data\n",
        "        ------------------\n",
        "        return: node \n",
        "        \n",
        "        node: each node represented by cutoff value and column index, value and children.\n",
        "         - cutoff value is thresold where you divide your attribute\n",
        "         - column index is your data attribute index\n",
        "         - value of node is mean value of label indexes, \n",
        "           if a node is leaf all data samples will have same label\n",
        "        \n",
        "        Note that: we divide each attribute into 2 part => each node will have 2 children: left, right.\n",
        "        '''\n",
        "        \n",
        "        #Stop conditions\n",
        "        \n",
        "        #if all value of y are the same \n",
        "        if np.all(y==y[0]):\n",
        "            return {'val':y[0]}\n",
        "\n",
        "        else: \n",
        "            col_idx, cutoff, entropy = self.find_best_split_of_all(X, y)    # find one split given an information gain \n",
        "            y_left = y[X[:, col_idx] < cutoff]\n",
        "            y_right = y[X[:, col_idx] >= cutoff]\n",
        "            node = {'index_col':col_idx,\n",
        "                        'cutoff':cutoff,\n",
        "                   'val':np.mean(y)}\n",
        "            node['left'] = self.fit(X[X[:, col_idx] < cutoff], y_left, {}, depth+1)\n",
        "            node['right'] = self.fit(X[X[:, col_idx] >= cutoff], y_right, {}, depth+1)\n",
        "            self.depth += 1 \n",
        "            self.tree = node\n",
        "            return node\n",
        "    \n",
        "    def find_best_split_of_all(self, X, y):\n",
        "        col_idx = None\n",
        "        min_entropy = 1\n",
        "        cutoff = None\n",
        "        for i, col_data in enumerate(X.T):\n",
        "            entropy, cur_cutoff = self.find_best_split(col_data, y)\n",
        "            if entropy == 0:                   #best entropy\n",
        "                return i, cur_cutoff, entropy\n",
        "            elif entropy <= min_entropy:\n",
        "                min_entropy = entropy\n",
        "                col_idx = i\n",
        "                cutoff = cur_cutoff\n",
        "               \n",
        "        return col_idx, cutoff, min_entropy\n",
        "    \n",
        "    def find_best_split(self, col_data, y):\n",
        "        ''' Parameters:\n",
        "        -------------\n",
        "        col_data: data samples in column'''\n",
        "         \n",
        "        min_entropy = 10\n",
        "\n",
        "        #Loop through col_data find cutoff where entropy is minimum\n",
        "        \n",
        "        for value in set(col_data):\n",
        "            y_predict = col_data < value\n",
        "            my_entropy = get_entropy(y_predict, y)\n",
        "            #TODO\n",
        "            #min entropy=?, cutoff=?\n",
        "            if my_entropy < min_entropy:\n",
        "                min_entropy = my_entropy\n",
        "                cutoff = value\n",
        "        return min_entropy, cutoff\n",
        "                                               \n",
        "    def predict(self, X):\n",
        "        tree = self.tree\n",
        "        pred = np.zeros(shape=len(X))\n",
        "        for i, c in enumerate(X):\n",
        "            pred[i] = self._predict(c)\n",
        "        return pred\n",
        "    \n",
        "    def _predict(self, row):\n",
        "        cur_layer = self.tree\n",
        "        while cur_layer.get('cutoff'):\n",
        "            if row[cur_layer['index_col']] < cur_layer['cutoff']:\n",
        "                cur_layer = cur_layer['left']\n",
        "            else:\n",
        "                cur_layer = cur_layer['right']\n",
        "        else:\n",
        "            return cur_layer.get('val')"
      ]
    },
    {
      "cell_type": "markdown",
      "metadata": {
        "id": "v_OsIHd-Gfyq"
      },
      "source": [
        "### 1.3 Phân loại trên Bộ dữ liệu Iris"
      ]
    },
    {
      "cell_type": "code",
      "execution_count": 108,
      "metadata": {
        "colab": {
          "base_uri": "https://localhost:8080/"
        },
        "id": "BNgHip1dGfyr",
        "outputId": "3d2f9fa2-0867-44d9-ee6e-103d092e6531"
      },
      "outputs": [
        {
          "output_type": "stream",
          "name": "stdout",
          "text": [
            "Accuracy of your decision tree model on training data: 1.0\n",
            "Accuracy of your decision tree model: 0.96\n"
          ]
        }
      ],
      "source": [
        "model = DecisionTreeClassifier()\n",
        "tree = model.fit(X_train, y_train)\n",
        "pred=model.predict(X_train)\n",
        "print('Accuracy of your decision tree model on training data:', accuracy_score(y_train,pred))\n",
        "pred=model.predict(X_test)\n",
        "print('Accuracy of your decision tree model:', accuracy_score(y_test,pred))\n"
      ]
    },
    {
      "cell_type": "markdown",
      "metadata": {
        "id": "2rXS4sPCGfyz"
      },
      "source": [
        "## 2. Định lý Bayes\n",
        "\n",
        "Công thức Bayes\n",
        "$$\\begin{equation}\n",
        "P\\left(A|B\\right)= \\dfrac{P\\left(B|A\\right)P\\left(A\\right)}{P\\left(B\\right)}\n",
        "\\end{equation}$$\n",
        "\n",
        "Nếu $B$ là dữ liệu của chúng ta thì $\\mathcal{D}$, $A$ và $w$ là các tham số mà chúng ta cần ước tính:\n",
        "\n",
        "$$ \\begin{align}\n",
        "    \\underbrace{P(w|\\mathcal{D})}_{Posterior}= \\dfrac{1}{\\underbrace{P(\\mathcal{D})}_{Normalization}} \\overbrace{P(\\mathcal{D}|w)}^{\\text{Likelihood}} \\overbrace{P(w)}^{Prior}\n",
        "    \\end{align}\n",
        "$$"
      ]
    },
    {
      "cell_type": "markdown",
      "metadata": {
        "id": "zuPXhYHzGfy1"
      },
      "source": [
        "#### Naive Bayes\n",
        "Để đơn giản hóa, người ta thường giả định rằng các thành phần của biến ngẫu nhiên $D$ (hoặc các features của dữ liệu $D$) là độc lập với nhau, nếu $w$ được biết. Nghĩa là:\n",
        "$$P(\\mathcal{D}|w)=\\prod _{i=1}^{d}P(x_i|w)$$\n",
        "\n",
        "- $d$: số lượng features\n",
        "\n"
      ]
    },
    {
      "cell_type": "markdown",
      "metadata": {
        "id": "1m4AZLwgGfy3"
      },
      "source": [
        "### 2.1. Hàm mật độ xác suất"
      ]
    },
    {
      "cell_type": "code",
      "execution_count": 109,
      "metadata": {
        "id": "fA3arZy8Gfy4"
      },
      "outputs": [],
      "source": [
        "class pdf:\n",
        "    def __init__(self,hist=None):\n",
        "        '''\n",
        "        A probability density function represented by a histogram\n",
        "        \n",
        "        hist: shape (n,1), n: number of hypotheses\n",
        "        hypo: hypothesis (simply understand as label)\n",
        "        ------------------\n",
        "        hist[hypo]=P(hypo)\n",
        "        '''\n",
        "        self.hist = hist\n",
        "        \n",
        "    #virtual function\n",
        "    def likelihood(self, data, hypo):\n",
        "        '''Paramters:\n",
        "        data: new data record \n",
        "        hypo: hypothesis (simply understand as label)\n",
        "        ---------\n",
        "        return P(data/hypo)\n",
        "        ''' \n",
        "        raise Exception()\n",
        "            \n",
        "    #update histogram for new data \n",
        "    def update(self, data):\n",
        "        ''' \n",
        "        P(hypo/data)=P(data/hypo)*P(hypo)*(1/P(data))\n",
        "        '''\n",
        "        \n",
        "        #Likelihood * Prior \n",
        "        #TODO\n",
        "        for hypo in self.hist.keys():\n",
        "            #self.hist[hypo]=?\n",
        "            self.hist[hypo] *= self.likelihood(data, hypo)\n",
        "            \n",
        "        #Normalization\n",
        "        \n",
        "        #TODO: s=P(data)\n",
        "        #s=?\n",
        "        s = 0\n",
        "        for hypo in self.hist.keys():\n",
        "          s += self.hist[hypo]\n",
        "\n",
        "        for hypo in self.hist.keys():\n",
        "            self.hist[hypo] = self.hist[hypo]/s\n",
        "        \n",
        "    def plot_pdf(self):\n",
        "        #plot Histogram\n",
        "        #TODO\n",
        "        x = list(self.hist.keys())\n",
        "        y = list(self.hist.values())\n",
        "        plt.title(\"Histogram\")\n",
        "        plt.bar(x, y)\n",
        "        plt.show()\n",
        "    \n",
        "    def maxHypo(self):\n",
        "        #find the hypothesis with maximum probability from hist\n",
        "        #TODO\n",
        "        max_hypo = np.argmax(list(self.hist.values()))\n",
        "        return max_hypo\n",
        "\n"
      ]
    },
    {
      "cell_type": "markdown",
      "metadata": {
        "id": "x89nTrIEGfy7"
      },
      "source": [
        "### 2.2 Phân loại trên Bộ dữ liệu Iris"
      ]
    },
    {
      "cell_type": "markdown",
      "metadata": {
        "id": "y9moO4N2Gfy8"
      },
      "source": [
        "#### Gaussian Naive Bayes"
      ]
    },
    {
      "cell_type": "markdown",
      "metadata": {
        "id": "rhLm2pD-Gfy-"
      },
      "source": [
        "- Naive Bayes có thể được mở rộng để sử dụng trên dữ liệu liên tục, phổ biến nhất là bằng cách sử dụng phân phối chuẩn (phân phối Gaussian).\n",
        "\n",
        "- Phần mở rộng này được gọi là Gaussian Naive Bayes. Các hàm khác có thể được sử dụng để ước tính phân phối dữ liệu, nhưng Gauss (hoặc phân phối chuẩn) là dễ làm việc nhất vì chúng ta chỉ cần ước tính giá trị trung bình và độ lệch chuẩn từ dữ liệu huấn luyện."
      ]
    },
    {
      "cell_type": "markdown",
      "metadata": {
        "id": "VDbWOYQ-GfzA"
      },
      "source": [
        "#### Định nghĩa hàm Gauss"
      ]
    },
    {
      "cell_type": "markdown",
      "metadata": {
        "id": "TmlbwFHPGfzA"
      },
      "source": [
        "$$ f\\left(x;\\mu,\\sigma \\right)= \\dfrac{1}{\\sigma \\sqrt{2\\pi}} \n",
        "\\exp \\left({-\\dfrac{\\left(x-\\mu\\right)^2}{2 \\sigma^2}}\\right) $$"
      ]
    },
    {
      "cell_type": "code",
      "execution_count": 110,
      "metadata": {
        "id": "-OpY89tkGfzB"
      },
      "outputs": [],
      "source": [
        "def Gauss(std,mean,x):\n",
        "    #Compute the Gaussian probability distribution function for x\n",
        "    #TODO \n",
        "    gauss = (1/(std*np.sqrt(2*np.pi))) * np.exp(-((x-mean)**2/(2*(std**2))))\n",
        "    return gauss"
      ]
    },
    {
      "cell_type": "code",
      "execution_count": 111,
      "metadata": {
        "id": "RIutnepWGfzH"
      },
      "outputs": [],
      "source": [
        "class NBGaussian(pdf):\n",
        "    def __init__(self, hist=None, std=None, mean=None):\n",
        "        '''Parameters:\n",
        "        \n",
        "        '''\n",
        "        pdf.__init__(self, hist)\n",
        "        self.std=std\n",
        "        self.mean=mean\n",
        "    def likelihood(self,data, hypo):\n",
        "        '''\n",
        "        Returns: res=P(data/hypo)\n",
        "        -----------------\n",
        "        Naive bayes:\n",
        "            Atributes are assumed to be conditionally independent given the class value.\n",
        "        '''\n",
        "    \n",
        "        std=self.std[hypo]\n",
        "        mean=self.mean[hypo]\n",
        "        res=1\n",
        "        #TODO\n",
        "        #res=res*P(x1/hypo)*P(x2/hypo)...\n",
        "        for i in range(len(data)):\n",
        "          res *= Gauss(std[i], mean[i], data[i])\n",
        "\n",
        "        return res \n",
        "    def fit(self, X,y):\n",
        "        \"\"\"Parameters:\n",
        "        X: training data\n",
        "        y: labels of training data\n",
        "        \"\"\"\n",
        "        n=len(X)\n",
        "        #number of iris species\n",
        "        #TODO\n",
        "        #n_species=???\n",
        "        n_species = len(set(y))\n",
        "        \n",
        "        hist={}\n",
        "        mean={}\n",
        "        std={}\n",
        "        \n",
        "        #separate  dataset into rows by class\n",
        "        for hypo in range(0,n_species):\n",
        "            #rows have hypo label\n",
        "            #TODO rows=\n",
        "            rows = []\n",
        "            for i in range(n):\n",
        "              if y[i] == hypo: \n",
        "                rows.append(X[i])\n",
        "\n",
        "            #histogram for each hypo\n",
        "            #TODO probability=?\n",
        "            propability = len(rows) / n\n",
        "\n",
        "            hist[hypo]=propability\n",
        "            \n",
        "            #Each hypothesis represented by its mean and standard derivation\n",
        "            '''mean and standard derivation should be calculated for each column (or each attribute)'''\n",
        "            #TODO mean[hypo]=?, std[hypo]=?\n",
        "            mean[hypo] = np.mean(X[y==hypo], axis=0)\n",
        "            std[hypo] = np.std(X[y==hypo], axis=0)\n",
        "         \n",
        "        self.mean=mean\n",
        "        self.std=std\n",
        "        self.hist=hist\n",
        "   \n",
        "    def _predict(self, data, plot=False):\n",
        "        \"\"\"\n",
        "        Predict label for only 1 data sample\n",
        "        ------------\n",
        "        Parameters:\n",
        "        data: data sample\n",
        "        plot: True: draw histogram after update new record\n",
        "        -----------\n",
        "        return: label of data\n",
        "        \"\"\"\n",
        "        model=NBGaussian(hist=self.hist.copy(),std=self.std.copy(), mean=self.mean.copy())\n",
        "        model.update(data)\n",
        "        if (plot): model.plot_pdf()\n",
        "        return model.maxHypo()\n",
        "    \n",
        "    def predict(self, data):\n",
        "        \"\"\"Parameters:\n",
        "        Data: test data\n",
        "        ----------\n",
        "        return labels of test data\"\"\"\n",
        "        \n",
        "        pred=[]\n",
        "        for x in data:\n",
        "            pred.append(self._predict(x))\n",
        "        return pred"
      ]
    },
    {
      "cell_type": "markdown",
      "metadata": {
        "id": "1Gmv2qqxGfzM"
      },
      "source": [
        "#### Hiển thị histogram của dữ liệu huấn luyện"
      ]
    },
    {
      "cell_type": "code",
      "execution_count": 112,
      "metadata": {
        "colab": {
          "base_uri": "https://localhost:8080/",
          "height": 281
        },
        "id": "BkjhuGkLGfzN",
        "outputId": "ea77c110-4d2d-427c-9fef-cd364ca7a98a"
      },
      "outputs": [
        {
          "output_type": "display_data",
          "data": {
            "text/plain": [
              "<Figure size 432x288 with 1 Axes>"
            ],
            "image/png": "[encoded data removed]"
          },
          "metadata": {
            "needs_background": "light"
          }
        }
      ],
      "source": [
        "model_1=NBGaussian()\n",
        "model_1.fit(X_train, y_train)\n",
        "model_1.plot_pdf()"
      ]
    },
    {
      "cell_type": "markdown",
      "metadata": {
        "id": "itiPerhxGfzW"
      },
      "source": [
        "#### Kiểm tra với 1 data record"
      ]
    },
    {
      "cell_type": "code",
      "execution_count": 113,
      "metadata": {
        "colab": {
          "base_uri": "https://localhost:8080/",
          "height": 335
        },
        "id": "ev9UTlb6GfzX",
        "outputId": "ca511526-9371-47c4-8abd-28bc253e2022"
      },
      "outputs": [
        {
          "output_type": "stream",
          "name": "stdout",
          "text": [
            "Label of X_test[10]:  2\n",
            "Our histogram after update X_test[10]: \n"
          ]
        },
        {
          "output_type": "display_data",
          "data": {
            "text/plain": [
              "<Figure size 432x288 with 1 Axes>"
            ],
            "image/png": "[encoded data removed]"
          },
          "metadata": {
            "needs_background": "light"
          }
        },
        {
          "output_type": "execute_result",
          "data": {
            "text/plain": [
              "2"
            ]
          },
          "metadata": {},
          "execution_count": 113
        }
      ],
      "source": [
        "#label of y_test[10]\n",
        "print('Label of X_test[10]: ', y_test[10])\n",
        "#update model and show histogram with X_test[10]:\n",
        "\n",
        "print('Our histogram after update X_test[10]: ')\n",
        "model_1._predict(X_test[10],plot=True)\n"
      ]
    },
    {
      "cell_type": "markdown",
      "metadata": {
        "id": "CAhcGUTgGfzd"
      },
      "source": [
        "#### Đánh giá mô hình Gaussian Naive Bayes của bạn"
      ]
    },
    {
      "cell_type": "code",
      "execution_count": 114,
      "metadata": {
        "colab": {
          "base_uri": "https://localhost:8080/"
        },
        "id": "S5Kvk-rUGfze",
        "outputId": "992b3d75-00d7-45b6-b8c3-0bb8b81a5be7"
      },
      "outputs": [
        {
          "output_type": "stream",
          "name": "stdout",
          "text": [
            "Accuracy of your Gaussian Naive Bayes model: 0.96\n"
          ]
        }
      ],
      "source": [
        "pred=model_1.predict(X_test)\n",
        "print('Accuracy of your Gaussian Naive Bayes model:', accuracy_score(y_test,pred))"
      ]
    },
    {
      "cell_type": "markdown",
      "metadata": {
        "id": "gJaWYqt5Jvmp"
      },
      "source": [
        "**TODO**: Báo cáo về F1, Recall và Precision."
      ]
    },
    {
      "cell_type": "code",
      "source": [
        "from sklearn.metrics import classification_report\n",
        "print(\"Report for Naive Bayes\")\n",
        "print(classification_report(y_test, pred))\n",
        "\n",
        "pred=model.predict(X_test)\n",
        "print(\"Report for Decision Tree\")\n",
        "print(classification_report(y_test, pred))"
      ],
      "metadata": {
        "colab": {
          "base_uri": "https://localhost:8080/"
        },
        "id": "GyuvzDo8nsr1",
        "outputId": "da74d8e9-1dfd-44ad-d91d-5d1712c9bcf6"
      },
      "execution_count": 115,
      "outputs": [
        {
          "output_type": "stream",
          "name": "stdout",
          "text": [
            "Report for Naive Bayes\n",
            "              precision    recall  f1-score   support\n",
            "\n",
            "           0       1.00      1.00      1.00        19\n",
            "           1       0.93      0.93      0.93        15\n",
            "           2       0.94      0.94      0.94        16\n",
            "\n",
            "    accuracy                           0.96        50\n",
            "   macro avg       0.96      0.96      0.96        50\n",
            "weighted avg       0.96      0.96      0.96        50\n",
            "\n",
            "Report for Decision Tree\n",
            "              precision    recall  f1-score   support\n",
            "\n",
            "           0       1.00      1.00      1.00        19\n",
            "           1       0.93      0.93      0.93        15\n",
            "           2       0.94      0.94      0.94        16\n",
            "\n",
            "    accuracy                           0.96        50\n",
            "   macro avg       0.96      0.96      0.96        50\n",
            "weighted avg       0.96      0.96      0.96        50\n",
            "\n"
          ]
        }
      ]
    }
  ],
  "metadata": {
    "colab": {
      "provenance": []
    },
    "kernelspec": {
      "display_name": "Python 3 (ipykernel)",
      "language": "python",
      "name": "python3"
    },
    "language_info": {
      "codemirror_mode": {
        "name": "ipython",
        "version": 3
      },
      "file_extension": ".py",
      "mimetype": "text/x-python",
      "name": "python",
      "nbconvert_exporter": "python",
      "pygments_lexer": "ipython3",
      "version": "3.9.7"
    }
  },
  "nbformat": 4,
  "nbformat_minor": 0
}